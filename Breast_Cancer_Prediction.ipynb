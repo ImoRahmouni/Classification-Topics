{
 "cells": [
  {
   "cell_type": "markdown",
   "metadata": {},
   "source": [
    "## Loading Data"
   ]
  },
  {
   "cell_type": "code",
   "execution_count": 2,
   "metadata": {},
   "outputs": [],
   "source": [
    "import numpy as np\n",
    "import pandas as pd"
   ]
  },
  {
   "cell_type": "code",
   "execution_count": 3,
   "metadata": {},
   "outputs": [
    {
     "name": "stdout",
     "output_type": "stream",
     "text": [
      "Dataset have 569 rows\n",
      "Working with 569 rows\n"
     ]
    },
    {
     "data": {
      "text/html": [
       "<div>\n",
       "<style scoped>\n",
       "    .dataframe tbody tr th:only-of-type {\n",
       "        vertical-align: middle;\n",
       "    }\n",
       "\n",
       "    .dataframe tbody tr th {\n",
       "        vertical-align: top;\n",
       "    }\n",
       "\n",
       "    .dataframe thead th {\n",
       "        text-align: right;\n",
       "    }\n",
       "</style>\n",
       "<table border=\"1\" class=\"dataframe\">\n",
       "  <thead>\n",
       "    <tr style=\"text-align: right;\">\n",
       "      <th></th>\n",
       "      <th>ID_Number</th>\n",
       "      <th>Diagnosis</th>\n",
       "      <th>radius</th>\n",
       "      <th>texture</th>\n",
       "      <th>perimeter</th>\n",
       "      <th>area</th>\n",
       "      <th>smoothness</th>\n",
       "      <th>compactness</th>\n",
       "      <th>concavity</th>\n",
       "      <th>concave_points</th>\n",
       "      <th>...</th>\n",
       "      <th>radius_3</th>\n",
       "      <th>texture_3</th>\n",
       "      <th>perimeter_3</th>\n",
       "      <th>area_3</th>\n",
       "      <th>smoothness_3</th>\n",
       "      <th>compactness_3</th>\n",
       "      <th>concavity_3</th>\n",
       "      <th>concave_points_3</th>\n",
       "      <th>symmetry_3</th>\n",
       "      <th>fractal_dimension_3</th>\n",
       "    </tr>\n",
       "  </thead>\n",
       "  <tbody>\n",
       "    <tr>\n",
       "      <th>0</th>\n",
       "      <td>842302</td>\n",
       "      <td>M</td>\n",
       "      <td>17.99</td>\n",
       "      <td>10.38</td>\n",
       "      <td>122.80</td>\n",
       "      <td>1001.0</td>\n",
       "      <td>0.11840</td>\n",
       "      <td>0.27760</td>\n",
       "      <td>0.3001</td>\n",
       "      <td>0.14710</td>\n",
       "      <td>...</td>\n",
       "      <td>25.38</td>\n",
       "      <td>17.33</td>\n",
       "      <td>184.60</td>\n",
       "      <td>2019.0</td>\n",
       "      <td>0.1622</td>\n",
       "      <td>0.6656</td>\n",
       "      <td>0.7119</td>\n",
       "      <td>0.2654</td>\n",
       "      <td>0.4601</td>\n",
       "      <td>0.11890</td>\n",
       "    </tr>\n",
       "    <tr>\n",
       "      <th>1</th>\n",
       "      <td>842517</td>\n",
       "      <td>M</td>\n",
       "      <td>20.57</td>\n",
       "      <td>17.77</td>\n",
       "      <td>132.90</td>\n",
       "      <td>1326.0</td>\n",
       "      <td>0.08474</td>\n",
       "      <td>0.07864</td>\n",
       "      <td>0.0869</td>\n",
       "      <td>0.07017</td>\n",
       "      <td>...</td>\n",
       "      <td>24.99</td>\n",
       "      <td>23.41</td>\n",
       "      <td>158.80</td>\n",
       "      <td>1956.0</td>\n",
       "      <td>0.1238</td>\n",
       "      <td>0.1866</td>\n",
       "      <td>0.2416</td>\n",
       "      <td>0.1860</td>\n",
       "      <td>0.2750</td>\n",
       "      <td>0.08902</td>\n",
       "    </tr>\n",
       "    <tr>\n",
       "      <th>2</th>\n",
       "      <td>84300903</td>\n",
       "      <td>M</td>\n",
       "      <td>19.69</td>\n",
       "      <td>21.25</td>\n",
       "      <td>130.00</td>\n",
       "      <td>1203.0</td>\n",
       "      <td>0.10960</td>\n",
       "      <td>0.15990</td>\n",
       "      <td>0.1974</td>\n",
       "      <td>0.12790</td>\n",
       "      <td>...</td>\n",
       "      <td>23.57</td>\n",
       "      <td>25.53</td>\n",
       "      <td>152.50</td>\n",
       "      <td>1709.0</td>\n",
       "      <td>0.1444</td>\n",
       "      <td>0.4245</td>\n",
       "      <td>0.4504</td>\n",
       "      <td>0.2430</td>\n",
       "      <td>0.3613</td>\n",
       "      <td>0.08758</td>\n",
       "    </tr>\n",
       "    <tr>\n",
       "      <th>3</th>\n",
       "      <td>84348301</td>\n",
       "      <td>M</td>\n",
       "      <td>11.42</td>\n",
       "      <td>20.38</td>\n",
       "      <td>77.58</td>\n",
       "      <td>386.1</td>\n",
       "      <td>0.14250</td>\n",
       "      <td>0.28390</td>\n",
       "      <td>0.2414</td>\n",
       "      <td>0.10520</td>\n",
       "      <td>...</td>\n",
       "      <td>14.91</td>\n",
       "      <td>26.50</td>\n",
       "      <td>98.87</td>\n",
       "      <td>567.7</td>\n",
       "      <td>0.2098</td>\n",
       "      <td>0.8663</td>\n",
       "      <td>0.6869</td>\n",
       "      <td>0.2575</td>\n",
       "      <td>0.6638</td>\n",
       "      <td>0.17300</td>\n",
       "    </tr>\n",
       "    <tr>\n",
       "      <th>4</th>\n",
       "      <td>84358402</td>\n",
       "      <td>M</td>\n",
       "      <td>20.29</td>\n",
       "      <td>14.34</td>\n",
       "      <td>135.10</td>\n",
       "      <td>1297.0</td>\n",
       "      <td>0.10030</td>\n",
       "      <td>0.13280</td>\n",
       "      <td>0.1980</td>\n",
       "      <td>0.10430</td>\n",
       "      <td>...</td>\n",
       "      <td>22.54</td>\n",
       "      <td>16.67</td>\n",
       "      <td>152.20</td>\n",
       "      <td>1575.0</td>\n",
       "      <td>0.1374</td>\n",
       "      <td>0.2050</td>\n",
       "      <td>0.4000</td>\n",
       "      <td>0.1625</td>\n",
       "      <td>0.2364</td>\n",
       "      <td>0.07678</td>\n",
       "    </tr>\n",
       "  </tbody>\n",
       "</table>\n",
       "<p>5 rows × 32 columns</p>\n",
       "</div>"
      ],
      "text/plain": [
       "   ID_Number Diagnosis  radius  texture  perimeter    area  smoothness  \\\n",
       "0     842302         M   17.99    10.38     122.80  1001.0     0.11840   \n",
       "1     842517         M   20.57    17.77     132.90  1326.0     0.08474   \n",
       "2   84300903         M   19.69    21.25     130.00  1203.0     0.10960   \n",
       "3   84348301         M   11.42    20.38      77.58   386.1     0.14250   \n",
       "4   84358402         M   20.29    14.34     135.10  1297.0     0.10030   \n",
       "\n",
       "   compactness  concavity  concave_points  ...  radius_3  texture_3  \\\n",
       "0      0.27760     0.3001         0.14710  ...     25.38      17.33   \n",
       "1      0.07864     0.0869         0.07017  ...     24.99      23.41   \n",
       "2      0.15990     0.1974         0.12790  ...     23.57      25.53   \n",
       "3      0.28390     0.2414         0.10520  ...     14.91      26.50   \n",
       "4      0.13280     0.1980         0.10430  ...     22.54      16.67   \n",
       "\n",
       "   perimeter_3  area_3  smoothness_3  compactness_3  concavity_3  \\\n",
       "0       184.60  2019.0        0.1622         0.6656       0.7119   \n",
       "1       158.80  1956.0        0.1238         0.1866       0.2416   \n",
       "2       152.50  1709.0        0.1444         0.4245       0.4504   \n",
       "3        98.87   567.7        0.2098         0.8663       0.6869   \n",
       "4       152.20  1575.0        0.1374         0.2050       0.4000   \n",
       "\n",
       "   concave_points_3  symmetry_3  fractal_dimension_3  \n",
       "0            0.2654      0.4601              0.11890  \n",
       "1            0.1860      0.2750              0.08902  \n",
       "2            0.2430      0.3613              0.08758  \n",
       "3            0.2575      0.6638              0.17300  \n",
       "4            0.1625      0.2364              0.07678  \n",
       "\n",
       "[5 rows x 32 columns]"
      ]
     },
     "execution_count": 3,
     "metadata": {},
     "output_type": "execute_result"
    }
   ],
   "source": [
    "data = pd.read_csv('/Users/macbookpro/Desktop/wdbc.data',\n",
    "                  names=['ID_Number', 'Diagnosis', 'radius', 'texture', 'perimeter', 'area',\n",
    "                        'smoothness', 'compactness', 'concavity', 'concave_points', 'symmetry', 'fractal_dimension',\n",
    "                        'radius_2', 'texture_2', 'perimeter_2', 'area_2', 'smoothness_2', 'compactness_2',\n",
    "                        'concavity_2', 'concave_points_2', 'symmetry_2', 'fractal_dimension_2',\n",
    "                        'radius_3', 'texture_3', 'perimeter_3', 'area_3', 'smoothness_3', 'compactness_3',\n",
    "                        'concavity_3', 'concave_points_3', 'symmetry_3', 'fractal_dimension_3'])\n",
    "print(f'Dataset have {len(data)} rows')\n",
    "data = data.dropna() #We make sure there aren't missing data\n",
    "print(f'Working with {len(data)} rows')\n",
    "data.head()"
   ]
  },
  {
   "cell_type": "markdown",
   "metadata": {},
   "source": [
    "- We do not have missing values, as mentionned in the website."
   ]
  },
  {
   "cell_type": "markdown",
   "metadata": {},
   "source": [
    "## Understanding and visualizing Data"
   ]
  },
  {
   "cell_type": "code",
   "execution_count": 4,
   "metadata": {},
   "outputs": [],
   "source": [
    "import matplotlib.pyplot as plt"
   ]
  },
  {
   "cell_type": "markdown",
   "metadata": {},
   "source": [
    "#### Unbalanced dataset ?"
   ]
  },
  {
   "cell_type": "markdown",
   "metadata": {},
   "source": [
    "- We check this in case we have a very unbalanced dataset"
   ]
  },
  {
   "cell_type": "code",
   "execution_count": 5,
   "metadata": {
    "scrolled": false
   },
   "outputs": [
    {
     "name": "stdout",
     "output_type": "stream",
     "text": [
      "B    357\n",
      "M    212\n",
      "Name: Diagnosis, dtype: int64\n"
     ]
    },
    {
     "data": {
      "image/png": "[encoded data removed]",
      "text/plain": [
       "<Figure size 432x288 with 1 Axes>"
      ]
     },
     "metadata": {
      "needs_background": "light"
     },
     "output_type": "display_data"
    }
   ],
   "source": [
    "data['Diagnosis'].value_counts().plot(kind = 'bar')\n",
    "print(data['Diagnosis'].value_counts())"
   ]
  },
  {
   "cell_type": "markdown",
   "metadata": {},
   "source": [
    "- Our dataset isn't unbalanced. Thus, We will use accuracy and auc score as metrics."
   ]
  },
  {
   "cell_type": "markdown",
   "metadata": {},
   "source": [
    "#### Correlation "
   ]
  },
  {
   "cell_type": "markdown",
   "metadata": {},
   "source": [
    "- I'm plotting the correlation Matrix"
   ]
  },
  {
   "cell_type": "code",
   "execution_count": 6,
   "metadata": {},
   "outputs": [
    {
     "data": {
      "image/png": "[encoded data removed]",
      "text/plain": [
       "<Figure size 1080x1080 with 2 Axes>"
      ]
     },
     "metadata": {
      "needs_background": "light"
     },
     "output_type": "display_data"
    }
   ],
   "source": [
    "f = plt.figure(figsize=(15, 15))\n",
    "plt.matshow(data.corr(), fignum=f.number)\n",
    "plt.xticks(range(data.shape[1]), data.columns, fontsize=14, rotation=45)\n",
    "plt.yticks(range(data.shape[1]), data.columns, fontsize=14)\n",
    "cb = plt.colorbar()\n",
    "cb.ax.tick_params(labelsize=14)\n",
    "plt.title('Correlation Matrix', fontsize=16);"
   ]
  },
  {
   "cell_type": "markdown",
   "metadata": {},
   "source": [
    "- It seems like there is relationship between some features (Texture and perimeter or also radius and fractal dimension).\n",
    "- Considering this, I'll use a method for dimensionality reduction, such as Principal Component Analysis. "
   ]
  },
  {
   "cell_type": "markdown",
   "metadata": {},
   "source": [
    "## Preparing Data for training"
   ]
  },
  {
   "cell_type": "markdown",
   "metadata": {},
   "source": [
    "- We prepare our dataset for a classifier"
   ]
  },
  {
   "cell_type": "code",
   "execution_count": 7,
   "metadata": {},
   "outputs": [],
   "source": [
    "#A function to convert the diagnosis to a binary value since the labels shouldn't be strings\n",
    "\n",
    "def attribution(str):\n",
    "    if str == 'M':\n",
    "        return 0\n",
    "    elif str == 'B':\n",
    "        return 1"
   ]
  },
  {
   "cell_type": "code",
   "execution_count": 8,
   "metadata": {},
   "outputs": [
    {
     "data": {
      "text/html": [
       "<div>\n",
       "<style scoped>\n",
       "    .dataframe tbody tr th:only-of-type {\n",
       "        vertical-align: middle;\n",
       "    }\n",
       "\n",
       "    .dataframe tbody tr th {\n",
       "        vertical-align: top;\n",
       "    }\n",
       "\n",
       "    .dataframe thead th {\n",
       "        text-align: right;\n",
       "    }\n",
       "</style>\n",
       "<table border=\"1\" class=\"dataframe\">\n",
       "  <thead>\n",
       "    <tr style=\"text-align: right;\">\n",
       "      <th></th>\n",
       "      <th>radius</th>\n",
       "      <th>texture</th>\n",
       "      <th>perimeter</th>\n",
       "      <th>area</th>\n",
       "      <th>smoothness</th>\n",
       "      <th>compactness</th>\n",
       "      <th>concavity</th>\n",
       "      <th>concave_points</th>\n",
       "      <th>symmetry</th>\n",
       "      <th>fractal_dimension</th>\n",
       "      <th>...</th>\n",
       "      <th>radius_3</th>\n",
       "      <th>texture_3</th>\n",
       "      <th>perimeter_3</th>\n",
       "      <th>area_3</th>\n",
       "      <th>smoothness_3</th>\n",
       "      <th>compactness_3</th>\n",
       "      <th>concavity_3</th>\n",
       "      <th>concave_points_3</th>\n",
       "      <th>symmetry_3</th>\n",
       "      <th>fractal_dimension_3</th>\n",
       "    </tr>\n",
       "  </thead>\n",
       "  <tbody>\n",
       "    <tr>\n",
       "      <th>0</th>\n",
       "      <td>17.99</td>\n",
       "      <td>10.38</td>\n",
       "      <td>122.80</td>\n",
       "      <td>1001.0</td>\n",
       "      <td>0.11840</td>\n",
       "      <td>0.27760</td>\n",
       "      <td>0.3001</td>\n",
       "      <td>0.14710</td>\n",
       "      <td>0.2419</td>\n",
       "      <td>0.07871</td>\n",
       "      <td>...</td>\n",
       "      <td>25.38</td>\n",
       "      <td>17.33</td>\n",
       "      <td>184.60</td>\n",
       "      <td>2019.0</td>\n",
       "      <td>0.1622</td>\n",
       "      <td>0.6656</td>\n",
       "      <td>0.7119</td>\n",
       "      <td>0.2654</td>\n",
       "      <td>0.4601</td>\n",
       "      <td>0.11890</td>\n",
       "    </tr>\n",
       "    <tr>\n",
       "      <th>1</th>\n",
       "      <td>20.57</td>\n",
       "      <td>17.77</td>\n",
       "      <td>132.90</td>\n",
       "      <td>1326.0</td>\n",
       "      <td>0.08474</td>\n",
       "      <td>0.07864</td>\n",
       "      <td>0.0869</td>\n",
       "      <td>0.07017</td>\n",
       "      <td>0.1812</td>\n",
       "      <td>0.05667</td>\n",
       "      <td>...</td>\n",
       "      <td>24.99</td>\n",
       "      <td>23.41</td>\n",
       "      <td>158.80</td>\n",
       "      <td>1956.0</td>\n",
       "      <td>0.1238</td>\n",
       "      <td>0.1866</td>\n",
       "      <td>0.2416</td>\n",
       "      <td>0.1860</td>\n",
       "      <td>0.2750</td>\n",
       "      <td>0.08902</td>\n",
       "    </tr>\n",
       "    <tr>\n",
       "      <th>2</th>\n",
       "      <td>19.69</td>\n",
       "      <td>21.25</td>\n",
       "      <td>130.00</td>\n",
       "      <td>1203.0</td>\n",
       "      <td>0.10960</td>\n",
       "      <td>0.15990</td>\n",
       "      <td>0.1974</td>\n",
       "      <td>0.12790</td>\n",
       "      <td>0.2069</td>\n",
       "      <td>0.05999</td>\n",
       "      <td>...</td>\n",
       "      <td>23.57</td>\n",
       "      <td>25.53</td>\n",
       "      <td>152.50</td>\n",
       "      <td>1709.0</td>\n",
       "      <td>0.1444</td>\n",
       "      <td>0.4245</td>\n",
       "      <td>0.4504</td>\n",
       "      <td>0.2430</td>\n",
       "      <td>0.3613</td>\n",
       "      <td>0.08758</td>\n",
       "    </tr>\n",
       "    <tr>\n",
       "      <th>3</th>\n",
       "      <td>11.42</td>\n",
       "      <td>20.38</td>\n",
       "      <td>77.58</td>\n",
       "      <td>386.1</td>\n",
       "      <td>0.14250</td>\n",
       "      <td>0.28390</td>\n",
       "      <td>0.2414</td>\n",
       "      <td>0.10520</td>\n",
       "      <td>0.2597</td>\n",
       "      <td>0.09744</td>\n",
       "      <td>...</td>\n",
       "      <td>14.91</td>\n",
       "      <td>26.50</td>\n",
       "      <td>98.87</td>\n",
       "      <td>567.7</td>\n",
       "      <td>0.2098</td>\n",
       "      <td>0.8663</td>\n",
       "      <td>0.6869</td>\n",
       "      <td>0.2575</td>\n",
       "      <td>0.6638</td>\n",
       "      <td>0.17300</td>\n",
       "    </tr>\n",
       "    <tr>\n",
       "      <th>4</th>\n",
       "      <td>20.29</td>\n",
       "      <td>14.34</td>\n",
       "      <td>135.10</td>\n",
       "      <td>1297.0</td>\n",
       "      <td>0.10030</td>\n",
       "      <td>0.13280</td>\n",
       "      <td>0.1980</td>\n",
       "      <td>0.10430</td>\n",
       "      <td>0.1809</td>\n",
       "      <td>0.05883</td>\n",
       "      <td>...</td>\n",
       "      <td>22.54</td>\n",
       "      <td>16.67</td>\n",
       "      <td>152.20</td>\n",
       "      <td>1575.0</td>\n",
       "      <td>0.1374</td>\n",
       "      <td>0.2050</td>\n",
       "      <td>0.4000</td>\n",
       "      <td>0.1625</td>\n",
       "      <td>0.2364</td>\n",
       "      <td>0.07678</td>\n",
       "    </tr>\n",
       "  </tbody>\n",
       "</table>\n",
       "<p>5 rows × 30 columns</p>\n",
       "</div>"
      ],
      "text/plain": [
       "   radius  texture  perimeter    area  smoothness  compactness  concavity  \\\n",
       "0   17.99    10.38     122.80  1001.0     0.11840      0.27760     0.3001   \n",
       "1   20.57    17.77     132.90  1326.0     0.08474      0.07864     0.0869   \n",
       "2   19.69    21.25     130.00  1203.0     0.10960      0.15990     0.1974   \n",
       "3   11.42    20.38      77.58   386.1     0.14250      0.28390     0.2414   \n",
       "4   20.29    14.34     135.10  1297.0     0.10030      0.13280     0.1980   \n",
       "\n",
       "   concave_points  symmetry  fractal_dimension  ...  radius_3  texture_3  \\\n",
       "0         0.14710    0.2419            0.07871  ...     25.38      17.33   \n",
       "1         0.07017    0.1812            0.05667  ...     24.99      23.41   \n",
       "2         0.12790    0.2069            0.05999  ...     23.57      25.53   \n",
       "3         0.10520    0.2597            0.09744  ...     14.91      26.50   \n",
       "4         0.10430    0.1809            0.05883  ...     22.54      16.67   \n",
       "\n",
       "   perimeter_3  area_3  smoothness_3  compactness_3  concavity_3  \\\n",
       "0       184.60  2019.0        0.1622         0.6656       0.7119   \n",
       "1       158.80  1956.0        0.1238         0.1866       0.2416   \n",
       "2       152.50  1709.0        0.1444         0.4245       0.4504   \n",
       "3        98.87   567.7        0.2098         0.8663       0.6869   \n",
       "4       152.20  1575.0        0.1374         0.2050       0.4000   \n",
       "\n",
       "   concave_points_3  symmetry_3  fractal_dimension_3  \n",
       "0            0.2654      0.4601              0.11890  \n",
       "1            0.1860      0.2750              0.08902  \n",
       "2            0.2430      0.3613              0.08758  \n",
       "3            0.2575      0.6638              0.17300  \n",
       "4            0.1625      0.2364              0.07678  \n",
       "\n",
       "[5 rows x 30 columns]"
      ]
     },
     "execution_count": 8,
     "metadata": {},
     "output_type": "execute_result"
    }
   ],
   "source": [
    "X = data.iloc[:, 2:]\n",
    "y = data['Diagnosis'].apply(attribution)\n",
    "\n",
    "X.head()\n",
    "#I'm also removing Identifier from features, since it's not supposed to be related to the diagnosis. "
   ]
  },
  {
   "cell_type": "markdown",
   "metadata": {},
   "source": [
    "- Now, we split our data to a train part and a test part for training our algorithm"
   ]
  },
  {
   "cell_type": "code",
   "execution_count": 9,
   "metadata": {},
   "outputs": [],
   "source": [
    "from sklearn.model_selection import train_test_split\n",
    "X_train, X_test, y_train, y_test = train_test_split(X, y, test_size = 0.2)"
   ]
  },
  {
   "cell_type": "markdown",
   "metadata": {},
   "source": [
    "- Now, I'll perform a PCA for dimensional reduction as mentioned before. I'll also scale the features before this,\n",
    "  since the PCA is sensitive to the variance and the features aren't in the same scale"
   ]
  },
  {
   "cell_type": "code",
   "execution_count": 10,
   "metadata": {},
   "outputs": [],
   "source": [
    "from sklearn.preprocessing import MinMaxScaler\n",
    "from sklearn.decomposition import PCA"
   ]
  },
  {
   "cell_type": "code",
   "execution_count": 11,
   "metadata": {},
   "outputs": [
    {
     "data": {
      "text/plain": [
       "array([[0.20251787, 0.3466351 , 0.20682745, 0.10629905, 0.29944607,\n",
       "        0.30280351, 0.21729147, 0.2777336 , 0.83152763, 0.26053075,\n",
       "        0.13583198, 0.34113069, 0.09928048, 0.05206968, 0.47683312,\n",
       "        0.603599  , 0.26658986, 0.88795518, 0.37003996, 0.25595943,\n",
       "        0.1398079 , 0.27478678, 0.13875193, 0.06203303, 0.20887539,\n",
       "        0.15233189, 0.12348243, 0.32006873, 0.27399961, 0.09871442]])"
      ]
     },
     "execution_count": 11,
     "metadata": {},
     "output_type": "execute_result"
    }
   ],
   "source": [
    "scaler = MinMaxScaler()\n",
    "scaler.fit(X_train)\n",
    "\n",
    "X_train_scaled = scaler.fit_transform(X_train)\n",
    "X_test_scaled = scaler.fit_transform(X_test)\n",
    "\n",
    "X_train_scaled[:1] "
   ]
  },
  {
   "cell_type": "markdown",
   "metadata": {},
   "source": [
    "- We scaled the data to the range between 0 and 1 before using PCA"
   ]
  },
  {
   "cell_type": "markdown",
   "metadata": {},
   "source": [
    "- For PCA, we want the explained variance to be between 95–99%. This is an alternative for choosing the optimal n_components in the PCA."
   ]
  },
  {
   "cell_type": "code",
   "execution_count": 12,
   "metadata": {},
   "outputs": [],
   "source": [
    "pca = PCA(n_components = 0.95)\n",
    "pca.fit(X_train_scaled)\n",
    "\n",
    "X_train_reduced = pca.transform(X_train_scaled)\n",
    "X_test_reduced = pca.transform(X_test_scaled)"
   ]
  },
  {
   "cell_type": "markdown",
   "metadata": {},
   "source": [
    "## Classification Model"
   ]
  },
  {
   "cell_type": "markdown",
   "metadata": {},
   "source": [
    "- I will find the best classifier between : Logistic Regression, SVM (SVC implementation) and Random Forest. \n",
    "- I'm defying a dictionnary per classifier and a list of different values for important parameters for each classifier. The idea is to find the best classifier with the optimal parameters, the ones who give the best accuracy and the best auc_score"
   ]
  },
  {
   "cell_type": "code",
   "execution_count": 13,
   "metadata": {},
   "outputs": [],
   "source": [
    "from sklearn.linear_model import LogisticRegression\n",
    "from sklearn.svm import SVC\n",
    "from sklearn.ensemble import RandomForestClassifier\n",
    "from tqdm import tqdm \n",
    "from sklearn.metrics import roc_auc_score\n",
    "from sklearn.metrics import accuracy_score"
   ]
  },
  {
   "cell_type": "code",
   "execution_count": 18,
   "metadata": {},
   "outputs": [],
   "source": [
    "dico_log_reg_accuracy = {}\n",
    "dico_log_reg_auc_score = {}\n",
    "list_C_log_Reg = np.linspace(0.1, 2, 20, endpoint = True)\n",
    "\n",
    "dico_SVC_accuracy = {}\n",
    "dico_SVC_auc = {}\n",
    "list_gamma = np.linspace(0.001, 0.1, 100, endpoint = True)\n",
    "list_C_SVC = np.linspace(0.1, 1.5, 15, endpoint = True)\n",
    "\n",
    "dico_random_forest_accuracy = {}\n",
    "dico_random_forest_auc_score = {}\n",
    "list_max_depth_rf = np.linspace(10, 200, 20, endpoint = True)"
   ]
  },
  {
   "cell_type": "code",
   "execution_count": 19,
   "metadata": {},
   "outputs": [
    {
     "name": "stderr",
     "output_type": "stream",
     "text": [
      "100%|██████████| 20/20 [00:00<00:00, 89.02it/s]\n",
      "100%|██████████| 15/15 [00:12<00:00,  1.22it/s]\n",
      "100%|██████████| 20/20 [00:04<00:00,  4.08it/s]\n"
     ]
    }
   ],
   "source": [
    "for C in tqdm(list_C_log_Reg) : \n",
    "    clf = LogisticRegression(C = C, random_state=0).fit(X_train_reduced, y_train)\n",
    "    y_pred = clf.predict(X_test_reduced)\n",
    "    dico_log_reg_accuracy[C] = accuracy_score(y_test, y_pred)\n",
    "    dico_log_reg_auc_score[C] = roc_auc_score(y_test, y_pred)\n",
    "\n",
    "for C in tqdm(list_C_SVC):\n",
    "    for gamma in list_gamma:\n",
    "        SVCmodel = SVC(C = C, gamma = gamma).fit(X_train_reduced, y_train)\n",
    "        y_pred = SVCmodel.predict(X_test_reduced)\n",
    "        dico_SVC_accuracy[C, gamma] = accuracy_score(y_test, y_pred)\n",
    "        dico_SVC_auc[C, gamma] = roc_auc_score(y_test, y_pred)\n",
    "\n",
    "for max_depth in tqdm(list_max_depth_rf):\n",
    "    random_forest = RandomForestClassifier(max_depth = max_depth, random_state=0)\n",
    "    random_forest.fit(X_train_reduced, y_train)\n",
    "    y_pred = clf.predict(X_test_reduced)\n",
    "    dico_random_forest_accuracy[max_depth] = accuracy_score(y_test, y_pred)\n",
    "    dico_random_forest_auc_score[max_depth] = roc_auc_score(y_test, y_pred)    "
   ]
  },
  {
   "cell_type": "code",
   "execution_count": 20,
   "metadata": {
    "scrolled": true
   },
   "outputs": [
    {
     "name": "stdout",
     "output_type": "stream",
     "text": [
      "Best accuracy for logistic Regression : 0.956140350877193\n",
      "Best accuracy for SVC : 0.956140350877193\n",
      "Best accuracy for Random Forest : 0.9122807017543859 \n",
      "\n",
      "Best AUC for Logistic Regression : 0.96\n",
      "Best AUC for SVC : 0.96\n",
      "Best AUC for Random Forest 0.92\n"
     ]
    }
   ],
   "source": [
    "print(f'Best accuracy for logistic Regression : {max(dico_log_reg_accuracy.values())}')\n",
    "print(f'Best accuracy for SVC : {max(dico_SVC_accuracy.values())}')\n",
    "print(f'Best accuracy for Random Forest : {max(dico_random_forest_accuracy.values())} \\n')\n",
    "\n",
    "print(f'Best AUC for Logistic Regression : {round(max(dico_log_reg_auc_score.values()), 2)}')\n",
    "print(f'Best AUC for SVC : {round(max(dico_SVC_auc.values()), 2)}')\n",
    "print(f'Best AUC for Random Forest {round(max(dico_random_forest_auc_score.values()), 2)}')"
   ]
  },
  {
   "cell_type": "markdown",
   "metadata": {},
   "source": [
    "- We notice that the SVC allows the best accuracy (0,991) and an AUC of 0.99. \n",
    "- I retrieve one key containing the parameters allowing this score"
   ]
  },
  {
   "cell_type": "code",
   "execution_count": 21,
   "metadata": {},
   "outputs": [
    {
     "data": {
      "text/plain": [
       "(1.2, 0.029)"
      ]
     },
     "execution_count": 21,
     "metadata": {},
     "output_type": "execute_result"
    }
   ],
   "source": [
    "[key for key in dico_SVC_accuracy.keys() if dico_SVC_accuracy[key] == max(dico_SVC_accuracy.values()) ][0]"
   ]
  },
  {
   "cell_type": "code",
   "execution_count": 25,
   "metadata": {},
   "outputs": [
    {
     "data": {
      "text/plain": [
       "0.1"
      ]
     },
     "execution_count": 25,
     "metadata": {},
     "output_type": "execute_result"
    }
   ],
   "source": [
    "[key for key in dico_log_reg_accuracy.keys() if dico_log_reg_accuracy[key] == max(dico_log_reg_accuracy.values())][0]"
   ]
  },
  {
   "cell_type": "markdown",
   "metadata": {},
   "source": [
    "We choose C = 0.4 and gamma = 0.079"
   ]
  },
  {
   "cell_type": "markdown",
   "metadata": {},
   "source": [
    "### We evaluate our model thanks to a cross-validation "
   ]
  },
  {
   "cell_type": "code",
   "execution_count": 25,
   "metadata": {},
   "outputs": [
    {
     "name": "stdout",
     "output_type": "stream",
     "text": [
      " Accuracy = 0.9406593406593406\n",
      " AUC_Score = 0.9868078810471557\n"
     ]
    }
   ],
   "source": [
    "from sklearn.model_selection import cross_val_score\n",
    "\n",
    "Classifier = SVC(C = 0.4, gamma = 0.079)\n",
    "mean_accuracy = cross_val_score(Classifier, X_train_reduced, y_train, cv = 5, scoring = 'accuracy').mean()\n",
    "mean_auc_score = cross_val_score(Classifier, X_train_reduced, y_train, cv = 5, scoring = 'roc_auc').mean()\n",
    "print(f' Accuracy = {mean_accuracy}')\n",
    "print(f' AUC_Score = {mean_auc_score}')"
   ]
  },
  {
   "cell_type": "markdown",
   "metadata": {},
   "source": [
    "- The mean of 5 folds cross validation accuracy is : 94.9% with an AUC of 0.988"
   ]
  },
  {
   "cell_type": "markdown",
   "metadata": {},
   "source": [
    "### More metrics for our classifier"
   ]
  },
  {
   "cell_type": "code",
   "execution_count": 27,
   "metadata": {},
   "outputs": [
    {
     "name": "stdout",
     "output_type": "stream",
     "text": [
      "              precision    recall  f1-score   support\n",
      "\n",
      "           M       0.83      0.98      0.90        46\n",
      "           B       0.98      0.87      0.92        68\n",
      "\n",
      "    accuracy                           0.91       114\n",
      "   macro avg       0.91      0.92      0.91       114\n",
      "weighted avg       0.92      0.91      0.91       114\n",
      "\n"
     ]
    }
   ],
   "source": [
    "from sklearn.metrics import classification_report\n",
    "\n",
    "print(classification_report(y_test, y_pred, target_names=['M', 'B']))"
   ]
  },
  {
   "cell_type": "markdown",
   "metadata": {},
   "source": [
    "- The classifier shows great result, in particular with the detection of all malignant cells and a F1-score of 0.99"
   ]
  },
  {
   "cell_type": "markdown",
   "metadata": {},
   "source": [
    "## Going Further"
   ]
  },
  {
   "cell_type": "markdown",
   "metadata": {},
   "source": [
    "- With more time, I could try to train more classifiers (Naive Bayes, Adaboost ... etc)\n",
    "- I may also try other parameters with a gridsearch"
   ]
  }
 ],
 "metadata": {
  "kernelspec": {
   "display_name": "Python 3",
   "language": "python",
   "name": "python3"
  },
  "language_info": {
   "codemirror_mode": {
    "name": "ipython",
    "version": 3
   },
   "file_extension": ".py",
   "mimetype": "text/x-python",
   "name": "python",
   "nbconvert_exporter": "python",
   "pygments_lexer": "ipython3",
   "version": "3.7.9"
  }
 },
 "nbformat": 4,
 "nbformat_minor": 4
}
