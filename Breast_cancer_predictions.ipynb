{
 "cells": [
  {
   "cell_type": "markdown",
   "metadata": {
    "id": "Vrsh4BPwnkle"
   },
   "source": [
    "# Machine learning challenge"
   ]
  },
  {
   "cell_type": "markdown",
   "metadata": {},
   "source": [
    "- This work is a study cas for an internship for which I've applied. "
   ]
  },
  {
   "cell_type": "markdown",
   "metadata": {
    "id": "_Zi0NRWuq7ZA"
   },
   "source": [
    "\n",
    "\n",
    "### 1. Classify the breast cancer wisconsin dataset.\n",
    "You can find more information about the dataset [here](https://archive.ics.uci.edu/ml/datasets/Breast+Cancer+Wisconsin+(Diagnostic)). It is a binary classification task where the goal is to train a classifier to detect benign and malignant cell nucleus.\n",
    "\n",
    "You can use the model and library of your choice but we expect a good accuracy. We expect from you to provide metrics that would be useful to understand how the model perform. We are expecting you to explain and justify your metrics and model choices.\n",
    "\n",
    "You'll be evaluated on the quality of your code and plots (readability, efficiency), the accuracy of your model and the quality of your explanations."
   ]
  },
  {
   "cell_type": "code",
   "execution_count": null,
   "metadata": {
    "id": "5GluPC2Y6IFU"
   },
   "outputs": [],
   "source": [
    "from sklearn.datasets import load_breast_cancer\n",
    "\n",
    "dataset = load_breast_cancer()"
   ]
  },
  {
   "cell_type": "code",
   "execution_count": null,
   "metadata": {
    "id": "zwD9xPZXH4Ma"
   },
   "outputs": [],
   "source": [
    "import numpy as np\n",
    "import pandas as pd"
   ]
  },
  {
   "cell_type": "code",
   "execution_count": null,
   "metadata": {
    "colab": {
     "base_uri": "https://localhost:8080/",
     "height": 292
    },
    "id": "rF0dMIQlLkdk",
    "outputId": "b78d7462-e3e9-4670-c359-75e8b5760e38"
   },
   "outputs": [
    {
     "name": "stdout",
     "output_type": "stream",
     "text": [
      "Dataset have 569 rows\n",
      "Working with 569 rows\n"
     ]
    },
    {
     "data": {
      "text/html": [
       "<div>\n",
       "<style scoped>\n",
       "    .dataframe tbody tr th:only-of-type {\n",
       "        vertical-align: middle;\n",
       "    }\n",
       "\n",
       "    .dataframe tbody tr th {\n",
       "        vertical-align: top;\n",
       "    }\n",
       "\n",
       "    .dataframe thead th {\n",
       "        text-align: right;\n",
       "    }\n",
       "</style>\n",
       "<table border=\"1\" class=\"dataframe\">\n",
       "  <thead>\n",
       "    <tr style=\"text-align: right;\">\n",
       "      <th></th>\n",
       "      <th>mean radius</th>\n",
       "      <th>mean texture</th>\n",
       "      <th>mean perimeter</th>\n",
       "      <th>mean area</th>\n",
       "      <th>mean smoothness</th>\n",
       "      <th>mean compactness</th>\n",
       "      <th>mean concavity</th>\n",
       "      <th>mean concave points</th>\n",
       "      <th>mean symmetry</th>\n",
       "      <th>mean fractal dimension</th>\n",
       "      <th>radius error</th>\n",
       "      <th>texture error</th>\n",
       "      <th>perimeter error</th>\n",
       "      <th>area error</th>\n",
       "      <th>smoothness error</th>\n",
       "      <th>compactness error</th>\n",
       "      <th>concavity error</th>\n",
       "      <th>concave points error</th>\n",
       "      <th>symmetry error</th>\n",
       "      <th>fractal dimension error</th>\n",
       "      <th>worst radius</th>\n",
       "      <th>worst texture</th>\n",
       "      <th>worst perimeter</th>\n",
       "      <th>worst area</th>\n",
       "      <th>worst smoothness</th>\n",
       "      <th>worst compactness</th>\n",
       "      <th>worst concavity</th>\n",
       "      <th>worst concave points</th>\n",
       "      <th>worst symmetry</th>\n",
       "      <th>worst fractal dimension</th>\n",
       "      <th>Diagnosis</th>\n",
       "    </tr>\n",
       "  </thead>\n",
       "  <tbody>\n",
       "    <tr>\n",
       "      <th>0</th>\n",
       "      <td>17.99</td>\n",
       "      <td>10.38</td>\n",
       "      <td>122.80</td>\n",
       "      <td>1001.0</td>\n",
       "      <td>0.11840</td>\n",
       "      <td>0.27760</td>\n",
       "      <td>0.3001</td>\n",
       "      <td>0.14710</td>\n",
       "      <td>0.2419</td>\n",
       "      <td>0.07871</td>\n",
       "      <td>1.0950</td>\n",
       "      <td>0.9053</td>\n",
       "      <td>8.589</td>\n",
       "      <td>153.40</td>\n",
       "      <td>0.006399</td>\n",
       "      <td>0.04904</td>\n",
       "      <td>0.05373</td>\n",
       "      <td>0.01587</td>\n",
       "      <td>0.03003</td>\n",
       "      <td>0.006193</td>\n",
       "      <td>25.38</td>\n",
       "      <td>17.33</td>\n",
       "      <td>184.60</td>\n",
       "      <td>2019.0</td>\n",
       "      <td>0.1622</td>\n",
       "      <td>0.6656</td>\n",
       "      <td>0.7119</td>\n",
       "      <td>0.2654</td>\n",
       "      <td>0.4601</td>\n",
       "      <td>0.11890</td>\n",
       "      <td>0</td>\n",
       "    </tr>\n",
       "    <tr>\n",
       "      <th>1</th>\n",
       "      <td>20.57</td>\n",
       "      <td>17.77</td>\n",
       "      <td>132.90</td>\n",
       "      <td>1326.0</td>\n",
       "      <td>0.08474</td>\n",
       "      <td>0.07864</td>\n",
       "      <td>0.0869</td>\n",
       "      <td>0.07017</td>\n",
       "      <td>0.1812</td>\n",
       "      <td>0.05667</td>\n",
       "      <td>0.5435</td>\n",
       "      <td>0.7339</td>\n",
       "      <td>3.398</td>\n",
       "      <td>74.08</td>\n",
       "      <td>0.005225</td>\n",
       "      <td>0.01308</td>\n",
       "      <td>0.01860</td>\n",
       "      <td>0.01340</td>\n",
       "      <td>0.01389</td>\n",
       "      <td>0.003532</td>\n",
       "      <td>24.99</td>\n",
       "      <td>23.41</td>\n",
       "      <td>158.80</td>\n",
       "      <td>1956.0</td>\n",
       "      <td>0.1238</td>\n",
       "      <td>0.1866</td>\n",
       "      <td>0.2416</td>\n",
       "      <td>0.1860</td>\n",
       "      <td>0.2750</td>\n",
       "      <td>0.08902</td>\n",
       "      <td>0</td>\n",
       "    </tr>\n",
       "    <tr>\n",
       "      <th>2</th>\n",
       "      <td>19.69</td>\n",
       "      <td>21.25</td>\n",
       "      <td>130.00</td>\n",
       "      <td>1203.0</td>\n",
       "      <td>0.10960</td>\n",
       "      <td>0.15990</td>\n",
       "      <td>0.1974</td>\n",
       "      <td>0.12790</td>\n",
       "      <td>0.2069</td>\n",
       "      <td>0.05999</td>\n",
       "      <td>0.7456</td>\n",
       "      <td>0.7869</td>\n",
       "      <td>4.585</td>\n",
       "      <td>94.03</td>\n",
       "      <td>0.006150</td>\n",
       "      <td>0.04006</td>\n",
       "      <td>0.03832</td>\n",
       "      <td>0.02058</td>\n",
       "      <td>0.02250</td>\n",
       "      <td>0.004571</td>\n",
       "      <td>23.57</td>\n",
       "      <td>25.53</td>\n",
       "      <td>152.50</td>\n",
       "      <td>1709.0</td>\n",
       "      <td>0.1444</td>\n",
       "      <td>0.4245</td>\n",
       "      <td>0.4504</td>\n",
       "      <td>0.2430</td>\n",
       "      <td>0.3613</td>\n",
       "      <td>0.08758</td>\n",
       "      <td>0</td>\n",
       "    </tr>\n",
       "    <tr>\n",
       "      <th>3</th>\n",
       "      <td>11.42</td>\n",
       "      <td>20.38</td>\n",
       "      <td>77.58</td>\n",
       "      <td>386.1</td>\n",
       "      <td>0.14250</td>\n",
       "      <td>0.28390</td>\n",
       "      <td>0.2414</td>\n",
       "      <td>0.10520</td>\n",
       "      <td>0.2597</td>\n",
       "      <td>0.09744</td>\n",
       "      <td>0.4956</td>\n",
       "      <td>1.1560</td>\n",
       "      <td>3.445</td>\n",
       "      <td>27.23</td>\n",
       "      <td>0.009110</td>\n",
       "      <td>0.07458</td>\n",
       "      <td>0.05661</td>\n",
       "      <td>0.01867</td>\n",
       "      <td>0.05963</td>\n",
       "      <td>0.009208</td>\n",
       "      <td>14.91</td>\n",
       "      <td>26.50</td>\n",
       "      <td>98.87</td>\n",
       "      <td>567.7</td>\n",
       "      <td>0.2098</td>\n",
       "      <td>0.8663</td>\n",
       "      <td>0.6869</td>\n",
       "      <td>0.2575</td>\n",
       "      <td>0.6638</td>\n",
       "      <td>0.17300</td>\n",
       "      <td>0</td>\n",
       "    </tr>\n",
       "    <tr>\n",
       "      <th>4</th>\n",
       "      <td>20.29</td>\n",
       "      <td>14.34</td>\n",
       "      <td>135.10</td>\n",
       "      <td>1297.0</td>\n",
       "      <td>0.10030</td>\n",
       "      <td>0.13280</td>\n",
       "      <td>0.1980</td>\n",
       "      <td>0.10430</td>\n",
       "      <td>0.1809</td>\n",
       "      <td>0.05883</td>\n",
       "      <td>0.7572</td>\n",
       "      <td>0.7813</td>\n",
       "      <td>5.438</td>\n",
       "      <td>94.44</td>\n",
       "      <td>0.011490</td>\n",
       "      <td>0.02461</td>\n",
       "      <td>0.05688</td>\n",
       "      <td>0.01885</td>\n",
       "      <td>0.01756</td>\n",
       "      <td>0.005115</td>\n",
       "      <td>22.54</td>\n",
       "      <td>16.67</td>\n",
       "      <td>152.20</td>\n",
       "      <td>1575.0</td>\n",
       "      <td>0.1374</td>\n",
       "      <td>0.2050</td>\n",
       "      <td>0.4000</td>\n",
       "      <td>0.1625</td>\n",
       "      <td>0.2364</td>\n",
       "      <td>0.07678</td>\n",
       "      <td>0</td>\n",
       "    </tr>\n",
       "  </tbody>\n",
       "</table>\n",
       "</div>"
      ],
      "text/plain": [
       "   mean radius  mean texture  ...  worst fractal dimension  Diagnosis\n",
       "0        17.99         10.38  ...                  0.11890          0\n",
       "1        20.57         17.77  ...                  0.08902          0\n",
       "2        19.69         21.25  ...                  0.08758          0\n",
       "3        11.42         20.38  ...                  0.17300          0\n",
       "4        20.29         14.34  ...                  0.07678          0\n",
       "\n",
       "[5 rows x 31 columns]"
      ]
     },
     "execution_count": 3,
     "metadata": {
      "tags": []
     },
     "output_type": "execute_result"
    }
   ],
   "source": [
    "data = pd.DataFrame(data = dataset['data'],\n",
    "                    columns = dataset['feature_names'])\n",
    "data['Diagnosis'] = dataset['target']\n",
    "\n",
    "print(f'Dataset have {len(data)} rows')\n",
    "data = data.dropna() #We make sure there aren't missing data\n",
    "print(f'Working with {len(data)} rows')\n",
    "data.head()"
   ]
  },
  {
   "cell_type": "markdown",
   "metadata": {
    "id": "qFOTGte4Mxu_"
   },
   "source": [
    "- We do not have missing values, as mentioned in the website"
   ]
  },
  {
   "cell_type": "markdown",
   "metadata": {
    "id": "1cJqobJuM6us"
   },
   "source": [
    "## **Understanding and visualizing Data**"
   ]
  },
  {
   "cell_type": "code",
   "execution_count": null,
   "metadata": {
    "id": "2gCa7LZ0MtwW"
   },
   "outputs": [],
   "source": [
    "import matplotlib.pyplot as plt"
   ]
  },
  {
   "cell_type": "markdown",
   "metadata": {
    "id": "LTKCAdMQNHGk"
   },
   "source": [
    "- We check this in case we have a very unbalanced dataset"
   ]
  },
  {
   "cell_type": "code",
   "execution_count": null,
   "metadata": {
    "colab": {
     "base_uri": "https://localhost:8080/",
     "height": 313
    },
    "id": "seH7Byd_Mt_G",
    "outputId": "162a9bbd-2329-4090-831f-f35c147ce05c"
   },
   "outputs": [
    {
     "name": "stdout",
     "output_type": "stream",
     "text": [
      "1    357\n",
      "0    212\n",
      "Name: Diagnosis, dtype: int64\n"
     ]
    },
    {
     "data": {
      "image/png": "[encoded data removed]",
      "text/plain": [
       "<Figure size 432x288 with 1 Axes>"
      ]
     },
     "metadata": {
      "needs_background": "light",
      "tags": []
     },
     "output_type": "display_data"
    }
   ],
   "source": [
    "data['Diagnosis'].value_counts().plot(kind = 'bar')\n",
    "print(data['Diagnosis'].value_counts())"
   ]
  },
  {
   "cell_type": "markdown",
   "metadata": {
    "id": "Z8XNaDFvNM0E"
   },
   "source": [
    "- Our dataset isn't unbalanced. Thus, We will use accuracy and auc score as metrics."
   ]
  },
  {
   "cell_type": "markdown",
   "metadata": {
    "id": "ESyt6ItvNRTE"
   },
   "source": [
    "**Correlation**"
   ]
  },
  {
   "cell_type": "markdown",
   "metadata": {
    "id": "LPA14DatNbSr"
   },
   "source": [
    "- I'm plotting the correlation Matrix"
   ]
  },
  {
   "cell_type": "code",
   "execution_count": null,
   "metadata": {
    "colab": {
     "base_uri": "https://localhost:8080/",
     "height": 919
    },
    "id": "Stbr0xo-MuJe",
    "outputId": "24abda6e-165c-4c66-8868-3e38013775ef"
   },
   "outputs": [
    {
     "data": {
      "image/png": "[encoded data removed]",
      "text/plain": [
       "<Figure size 1080x1080 with 2 Axes>"
      ]
     },
     "metadata": {
      "needs_background": "light",
      "tags": []
     },
     "output_type": "display_data"
    }
   ],
   "source": [
    "f = plt.figure(figsize=(15, 15))\n",
    "plt.matshow(data.corr(), fignum=f.number)\n",
    "plt.xticks(range(data.shape[1]), data.columns, fontsize=14, rotation=45)\n",
    "plt.yticks(range(data.shape[1]), data.columns, fontsize=14)\n",
    "cb = plt.colorbar()\n",
    "cb.ax.tick_params(labelsize=14)\n",
    "plt.title('Correlation Matrix', fontsize=16);"
   ]
  },
  {
   "cell_type": "markdown",
   "metadata": {
    "id": "d19zVOUXNf3c"
   },
   "source": [
    "- It seems like there is relationship between some features (Texture and perimeter or  also radius and fractal dimension).\n",
    "- Considering this, I'll use a method for dimensionality reduction, such as Principal Component Analysis. "
   ]
  },
  {
   "cell_type": "markdown",
   "metadata": {
    "id": "EwogyDp4NjOY"
   },
   "source": [
    "## **Preparing Data for training**"
   ]
  },
  {
   "cell_type": "code",
   "execution_count": null,
   "metadata": {
    "colab": {
     "base_uri": "https://localhost:8080/",
     "height": 275
    },
    "id": "dgD040FKMuS-",
    "outputId": "b4173e93-0ae8-4775-d857-255e4019dfb4"
   },
   "outputs": [
    {
     "name": "stdout",
     "output_type": "stream",
     "text": [
      "(569, 30)\n"
     ]
    },
    {
     "data": {
      "text/html": [
       "<div>\n",
       "<style scoped>\n",
       "    .dataframe tbody tr th:only-of-type {\n",
       "        vertical-align: middle;\n",
       "    }\n",
       "\n",
       "    .dataframe tbody tr th {\n",
       "        vertical-align: top;\n",
       "    }\n",
       "\n",
       "    .dataframe thead th {\n",
       "        text-align: right;\n",
       "    }\n",
       "</style>\n",
       "<table border=\"1\" class=\"dataframe\">\n",
       "  <thead>\n",
       "    <tr style=\"text-align: right;\">\n",
       "      <th></th>\n",
       "      <th>mean radius</th>\n",
       "      <th>mean texture</th>\n",
       "      <th>mean perimeter</th>\n",
       "      <th>mean area</th>\n",
       "      <th>mean smoothness</th>\n",
       "      <th>mean compactness</th>\n",
       "      <th>mean concavity</th>\n",
       "      <th>mean concave points</th>\n",
       "      <th>mean symmetry</th>\n",
       "      <th>mean fractal dimension</th>\n",
       "      <th>radius error</th>\n",
       "      <th>texture error</th>\n",
       "      <th>perimeter error</th>\n",
       "      <th>area error</th>\n",
       "      <th>smoothness error</th>\n",
       "      <th>compactness error</th>\n",
       "      <th>concavity error</th>\n",
       "      <th>concave points error</th>\n",
       "      <th>symmetry error</th>\n",
       "      <th>fractal dimension error</th>\n",
       "      <th>worst radius</th>\n",
       "      <th>worst texture</th>\n",
       "      <th>worst perimeter</th>\n",
       "      <th>worst area</th>\n",
       "      <th>worst smoothness</th>\n",
       "      <th>worst compactness</th>\n",
       "      <th>worst concavity</th>\n",
       "      <th>worst concave points</th>\n",
       "      <th>worst symmetry</th>\n",
       "      <th>worst fractal dimension</th>\n",
       "    </tr>\n",
       "  </thead>\n",
       "  <tbody>\n",
       "    <tr>\n",
       "      <th>0</th>\n",
       "      <td>17.99</td>\n",
       "      <td>10.38</td>\n",
       "      <td>122.80</td>\n",
       "      <td>1001.0</td>\n",
       "      <td>0.11840</td>\n",
       "      <td>0.27760</td>\n",
       "      <td>0.3001</td>\n",
       "      <td>0.14710</td>\n",
       "      <td>0.2419</td>\n",
       "      <td>0.07871</td>\n",
       "      <td>1.0950</td>\n",
       "      <td>0.9053</td>\n",
       "      <td>8.589</td>\n",
       "      <td>153.40</td>\n",
       "      <td>0.006399</td>\n",
       "      <td>0.04904</td>\n",
       "      <td>0.05373</td>\n",
       "      <td>0.01587</td>\n",
       "      <td>0.03003</td>\n",
       "      <td>0.006193</td>\n",
       "      <td>25.38</td>\n",
       "      <td>17.33</td>\n",
       "      <td>184.60</td>\n",
       "      <td>2019.0</td>\n",
       "      <td>0.1622</td>\n",
       "      <td>0.6656</td>\n",
       "      <td>0.7119</td>\n",
       "      <td>0.2654</td>\n",
       "      <td>0.4601</td>\n",
       "      <td>0.11890</td>\n",
       "    </tr>\n",
       "    <tr>\n",
       "      <th>1</th>\n",
       "      <td>20.57</td>\n",
       "      <td>17.77</td>\n",
       "      <td>132.90</td>\n",
       "      <td>1326.0</td>\n",
       "      <td>0.08474</td>\n",
       "      <td>0.07864</td>\n",
       "      <td>0.0869</td>\n",
       "      <td>0.07017</td>\n",
       "      <td>0.1812</td>\n",
       "      <td>0.05667</td>\n",
       "      <td>0.5435</td>\n",
       "      <td>0.7339</td>\n",
       "      <td>3.398</td>\n",
       "      <td>74.08</td>\n",
       "      <td>0.005225</td>\n",
       "      <td>0.01308</td>\n",
       "      <td>0.01860</td>\n",
       "      <td>0.01340</td>\n",
       "      <td>0.01389</td>\n",
       "      <td>0.003532</td>\n",
       "      <td>24.99</td>\n",
       "      <td>23.41</td>\n",
       "      <td>158.80</td>\n",
       "      <td>1956.0</td>\n",
       "      <td>0.1238</td>\n",
       "      <td>0.1866</td>\n",
       "      <td>0.2416</td>\n",
       "      <td>0.1860</td>\n",
       "      <td>0.2750</td>\n",
       "      <td>0.08902</td>\n",
       "    </tr>\n",
       "    <tr>\n",
       "      <th>2</th>\n",
       "      <td>19.69</td>\n",
       "      <td>21.25</td>\n",
       "      <td>130.00</td>\n",
       "      <td>1203.0</td>\n",
       "      <td>0.10960</td>\n",
       "      <td>0.15990</td>\n",
       "      <td>0.1974</td>\n",
       "      <td>0.12790</td>\n",
       "      <td>0.2069</td>\n",
       "      <td>0.05999</td>\n",
       "      <td>0.7456</td>\n",
       "      <td>0.7869</td>\n",
       "      <td>4.585</td>\n",
       "      <td>94.03</td>\n",
       "      <td>0.006150</td>\n",
       "      <td>0.04006</td>\n",
       "      <td>0.03832</td>\n",
       "      <td>0.02058</td>\n",
       "      <td>0.02250</td>\n",
       "      <td>0.004571</td>\n",
       "      <td>23.57</td>\n",
       "      <td>25.53</td>\n",
       "      <td>152.50</td>\n",
       "      <td>1709.0</td>\n",
       "      <td>0.1444</td>\n",
       "      <td>0.4245</td>\n",
       "      <td>0.4504</td>\n",
       "      <td>0.2430</td>\n",
       "      <td>0.3613</td>\n",
       "      <td>0.08758</td>\n",
       "    </tr>\n",
       "    <tr>\n",
       "      <th>3</th>\n",
       "      <td>11.42</td>\n",
       "      <td>20.38</td>\n",
       "      <td>77.58</td>\n",
       "      <td>386.1</td>\n",
       "      <td>0.14250</td>\n",
       "      <td>0.28390</td>\n",
       "      <td>0.2414</td>\n",
       "      <td>0.10520</td>\n",
       "      <td>0.2597</td>\n",
       "      <td>0.09744</td>\n",
       "      <td>0.4956</td>\n",
       "      <td>1.1560</td>\n",
       "      <td>3.445</td>\n",
       "      <td>27.23</td>\n",
       "      <td>0.009110</td>\n",
       "      <td>0.07458</td>\n",
       "      <td>0.05661</td>\n",
       "      <td>0.01867</td>\n",
       "      <td>0.05963</td>\n",
       "      <td>0.009208</td>\n",
       "      <td>14.91</td>\n",
       "      <td>26.50</td>\n",
       "      <td>98.87</td>\n",
       "      <td>567.7</td>\n",
       "      <td>0.2098</td>\n",
       "      <td>0.8663</td>\n",
       "      <td>0.6869</td>\n",
       "      <td>0.2575</td>\n",
       "      <td>0.6638</td>\n",
       "      <td>0.17300</td>\n",
       "    </tr>\n",
       "    <tr>\n",
       "      <th>4</th>\n",
       "      <td>20.29</td>\n",
       "      <td>14.34</td>\n",
       "      <td>135.10</td>\n",
       "      <td>1297.0</td>\n",
       "      <td>0.10030</td>\n",
       "      <td>0.13280</td>\n",
       "      <td>0.1980</td>\n",
       "      <td>0.10430</td>\n",
       "      <td>0.1809</td>\n",
       "      <td>0.05883</td>\n",
       "      <td>0.7572</td>\n",
       "      <td>0.7813</td>\n",
       "      <td>5.438</td>\n",
       "      <td>94.44</td>\n",
       "      <td>0.011490</td>\n",
       "      <td>0.02461</td>\n",
       "      <td>0.05688</td>\n",
       "      <td>0.01885</td>\n",
       "      <td>0.01756</td>\n",
       "      <td>0.005115</td>\n",
       "      <td>22.54</td>\n",
       "      <td>16.67</td>\n",
       "      <td>152.20</td>\n",
       "      <td>1575.0</td>\n",
       "      <td>0.1374</td>\n",
       "      <td>0.2050</td>\n",
       "      <td>0.4000</td>\n",
       "      <td>0.1625</td>\n",
       "      <td>0.2364</td>\n",
       "      <td>0.07678</td>\n",
       "    </tr>\n",
       "  </tbody>\n",
       "</table>\n",
       "</div>"
      ],
      "text/plain": [
       "   mean radius  mean texture  ...  worst symmetry  worst fractal dimension\n",
       "0        17.99         10.38  ...          0.4601                  0.11890\n",
       "1        20.57         17.77  ...          0.2750                  0.08902\n",
       "2        19.69         21.25  ...          0.3613                  0.08758\n",
       "3        11.42         20.38  ...          0.6638                  0.17300\n",
       "4        20.29         14.34  ...          0.2364                  0.07678\n",
       "\n",
       "[5 rows x 30 columns]"
      ]
     },
     "execution_count": 8,
     "metadata": {
      "tags": []
     },
     "output_type": "execute_result"
    }
   ],
   "source": [
    "X = data.iloc[:, :30]\n",
    "y = data['Diagnosis']\n",
    "\n",
    "print(X.shape)\n",
    "X.head()"
   ]
  },
  {
   "cell_type": "markdown",
   "metadata": {
    "id": "tJk1uVbSN2VE"
   },
   "source": [
    "- Now, we split our data to a train part and a test part for training our algorithm"
   ]
  },
  {
   "cell_type": "code",
   "execution_count": null,
   "metadata": {
    "id": "p0snFrR0MubN"
   },
   "outputs": [],
   "source": [
    "from sklearn.model_selection import train_test_split\n",
    "X_train, X_test, y_train, y_test = train_test_split(X, y, test_size = 0.2)"
   ]
  },
  {
   "cell_type": "markdown",
   "metadata": {
    "id": "CbMuDio2N71C"
   },
   "source": [
    "- Now, I'll perform a PCA for dimensional reduction as mentioned before. I'll also scale the features before this,\n",
    "  since the PCA is sensitive to the variance and the features aren't in the same scale"
   ]
  },
  {
   "cell_type": "code",
   "execution_count": null,
   "metadata": {
    "id": "YLoh3peYMuj-"
   },
   "outputs": [],
   "source": [
    "from sklearn.preprocessing import MinMaxScaler\n",
    "from sklearn.decomposition import PCA"
   ]
  },
  {
   "cell_type": "code",
   "execution_count": null,
   "metadata": {
    "colab": {
     "base_uri": "https://localhost:8080/"
    },
    "id": "IFZbjsglMust",
    "outputId": "1f1c48c5-7275-449c-f3fa-8fd071e30a01"
   },
   "outputs": [
    {
     "data": {
      "text/plain": [
       "array([[0.63225898, 0.48962656, 0.63651441, 0.47529162, 0.58111402,\n",
       "        0.51567389, 0.60154784, 0.78619969, 0.76212121, 0.3525695 ,\n",
       "        0.16610538, 0.18745404, 0.15337134, 0.11557988, 0.09900573,\n",
       "        0.16566527, 0.10500329, 0.34861217, 0.27857826, 0.11154918,\n",
       "        0.61792956, 0.52878465, 0.60107575, 0.43079041, 0.55146799,\n",
       "        0.4052829 , 0.42683706, 0.92268041, 0.78710822, 0.31063886]])"
      ]
     },
     "execution_count": 11,
     "metadata": {
      "tags": []
     },
     "output_type": "execute_result"
    }
   ],
   "source": [
    "scaler = MinMaxScaler()\n",
    "scaler.fit(X_train)\n",
    "\n",
    "X_train_scaled = scaler.fit_transform(X_train)\n",
    "X_test_scaled = scaler.fit_transform(X_test)\n",
    "\n",
    "X_train_scaled[:1] #We print one line rescaled, to check"
   ]
  },
  {
   "cell_type": "markdown",
   "metadata": {
    "id": "VFb_36MOOL51"
   },
   "source": [
    "- We scaled the data to the range between 0 and 1 before using PCA\n",
    "- For PCA, we want the explained variance to be between 95–99%. This is an alternative for choosing the optimal n_components in the PCA."
   ]
  },
  {
   "cell_type": "code",
   "execution_count": null,
   "metadata": {
    "id": "e0KbS4mrMu03"
   },
   "outputs": [],
   "source": [
    "pca = PCA(n_components = 0.95)\n",
    "pca.fit(X_train_scaled)\n",
    "\n",
    "X_train_reduced = pca.transform(X_train_scaled)\n",
    "X_test_reduced = pca.transform(X_test_scaled)"
   ]
  },
  {
   "cell_type": "markdown",
   "metadata": {
    "id": "Xr-LWxQ-OQUg"
   },
   "source": [
    "## **Classification Model**"
   ]
  },
  {
   "cell_type": "markdown",
   "metadata": {
    "id": "58tocnj7OXLh"
   },
   "source": [
    "- I will find the best classifier between : Logistic Regression, SVM (SVC implementation) and Random Forest. \n",
    "- I'm defying a dictionnary per classifier and per metric (Accuracy and AUC_Score), plus a list of different values for important parameters for each classifier. \n",
    "The idea is to find the best classifier with the optimal parameters, the ones who give the best accuracy and the best auc_score"
   ]
  },
  {
   "cell_type": "code",
   "execution_count": null,
   "metadata": {
    "id": "hB_5noKZMu8W"
   },
   "outputs": [],
   "source": [
    "from sklearn.linear_model import LogisticRegression\n",
    "from sklearn.svm import SVC\n",
    "from sklearn.ensemble import RandomForestClassifier\n",
    "from tqdm import tqdm \n",
    "from sklearn.metrics import roc_auc_score\n",
    "from sklearn.metrics import accuracy_score"
   ]
  },
  {
   "cell_type": "code",
   "execution_count": null,
   "metadata": {
    "id": "ia1b_498MvD1"
   },
   "outputs": [],
   "source": [
    "dico_log_reg_accuracy = {}\n",
    "dico_log_reg_auc_score = {}\n",
    "\n",
    "list_C_log_Reg = np.linspace(0.1, 2, 20, endpoint = True)\n",
    "\n",
    "dico_SVC_accuracy = {}\n",
    "dico_SVC_auc_score = {}\n",
    "\n",
    "list_gamma = np.linspace(0.05, 0.1, 5, endpoint = True)\n",
    "list_C_SVC = np.linspace(0.5, 1.5, 10, endpoint = True)\n",
    "\n",
    "dico_random_forest_accuracy = {}\n",
    "dico_random_forest_auc_score = {}\n",
    "\n",
    "list_max_depth_rf = np.linspace(10, 200, 20, endpoint = True)"
   ]
  },
  {
   "cell_type": "code",
   "execution_count": null,
   "metadata": {
    "colab": {
     "base_uri": "https://localhost:8080/"
    },
    "id": "JJJfharFMqB4",
    "outputId": "60a36c8d-d798-4cd6-bb63-839458ae84ea"
   },
   "outputs": [
    {
     "name": "stderr",
     "output_type": "stream",
     "text": [
      "100%|██████████| 20/20 [00:00<00:00, 159.52it/s]\n",
      "100%|██████████| 10/10 [00:00<00:00, 31.71it/s]\n",
      "100%|██████████| 20/20 [00:03<00:00,  5.52it/s]\n"
     ]
    }
   ],
   "source": [
    "for C in tqdm(list_C_log_Reg) : \n",
    "    clf = LogisticRegression(C = C, random_state=0)\n",
    "    clf.fit(X_train_reduced, y_train)\n",
    "    y_pred = clf.predict(X_test_reduced)\n",
    "    dico_log_reg_accuracy[C] = accuracy_score(y_test, y_pred)\n",
    "    dico_log_reg_auc_score[C] = roc_auc_score(y_test, y_pred)\n",
    "\n",
    "for C in tqdm(list_C_SVC):\n",
    "    for gamma in list_gamma:\n",
    "        SVCmodel = SVC(C = C, gamma = gamma)\n",
    "        SVCmodel.fit(X_train_reduced, y_train)\n",
    "        y_pred = SVCmodel.predict(X_test_reduced)\n",
    "        dico_SVC_accuracy[C, gamma] = accuracy_score(y_test, y_pred)\n",
    "        dico_SVC_auc_score[C, gamma] = roc_auc_score(y_test, y_pred)\n",
    "\n",
    "for max_depth in tqdm(list_max_depth_rf):\n",
    "    random_forest = RandomForestClassifier(max_depth = max_depth, random_state=0)\n",
    "    random_forest.fit(X_train_reduced, y_train)\n",
    "    y_pred = clf.predict(X_test_reduced)\n",
    "    dico_random_forest_accuracy[max_depth] = accuracy_score(y_test, y_pred)\n",
    "    dico_random_forest_auc_score[max_depth] = roc_auc_score(y_test, y_pred)   "
   ]
  },
  {
   "cell_type": "code",
   "execution_count": null,
   "metadata": {
    "colab": {
     "base_uri": "https://localhost:8080/"
    },
    "id": "PQmglz3QMqPn",
    "outputId": "6d4f0e3a-85b9-4953-8de5-5173a858729e"
   },
   "outputs": [
    {
     "name": "stdout",
     "output_type": "stream",
     "text": [
      "Best accuracy for logistic Regression : 0.956140350877193\n",
      "Best accuracy for SVC : 0.9473684210526315\n",
      "Best accuracy for Random Forest : 0.9385964912280702 \n",
      "\n",
      "Best AUC for Logistic Regression : 0.95\n",
      "Best AUC for SVC : 0.95\n",
      "Best AUC for Random Forest 0.94\n"
     ]
    }
   ],
   "source": [
    "print(f'Best accuracy for logistic Regression : {max(dico_log_reg_accuracy.values())}')\n",
    "print(f'Best accuracy for SVC : {max(dico_SVC_accuracy.values())}')\n",
    "print(f'Best accuracy for Random Forest : {max(dico_random_forest_accuracy.values())} \\n')\n",
    "\n",
    "print(f'Best AUC for Logistic Regression : {round(max(dico_log_reg_auc_score.values()), 2)}')\n",
    "print(f'Best AUC for SVC : {round(max(dico_SVC_auc_score.values()), 2)}')\n",
    "print(f'Best AUC for Random Forest {round(max(dico_random_forest_auc_score.values()), 2)}')"
   ]
  },
  {
   "cell_type": "markdown",
   "metadata": {
    "id": "G6SkMdZ1PejJ"
   },
   "source": [
    "- We notice that the Logistic Regression allows the best accuracy (0,956) and an AUC of 0.95\n",
    "- I retrieve one key containing the parameters allowing this score"
   ]
  },
  {
   "cell_type": "code",
   "execution_count": null,
   "metadata": {
    "colab": {
     "base_uri": "https://localhost:8080/"
    },
    "id": "eD59dvTsab7n",
    "outputId": "323e3ca5-20c0-4955-eb0e-5a0aeb465775"
   },
   "outputs": [
    {
     "data": {
      "text/plain": [
       "0.7"
      ]
     },
     "execution_count": 26,
     "metadata": {
      "tags": []
     },
     "output_type": "execute_result"
    }
   ],
   "source": [
    "[key for key in dico_log_reg_accuracy.keys() if dico_log_reg_accuracy[key] == max(dico_log_reg_accuracy.values())][0]"
   ]
  },
  {
   "cell_type": "markdown",
   "metadata": {
    "id": "biy33jN0RNjE"
   },
   "source": [
    "### **We evaluate our model thanks to a cross-validation** "
   ]
  },
  {
   "cell_type": "code",
   "execution_count": null,
   "metadata": {
    "id": "kCgyENYPRN8y"
   },
   "outputs": [],
   "source": [
    "from sklearn.model_selection import cross_val_score"
   ]
  },
  {
   "cell_type": "code",
   "execution_count": null,
   "metadata": {
    "colab": {
     "base_uri": "https://localhost:8080/"
    },
    "id": "7qlEY2-NYQz9",
    "outputId": "532c58e9-7fe3-4b8d-abe3-d75ffcdc7467"
   },
   "outputs": [
    {
     "name": "stdout",
     "output_type": "stream",
     "text": [
      " Accuracy = 0.9647\n",
      " AUC_Score = 0.9959\n"
     ]
    }
   ],
   "source": [
    "Classifier = LogisticRegression(C = 0.7)\n",
    "\n",
    "mean_accuracy = cross_val_score(Classifier, X_train_reduced, y_train, cv = 10, scoring = 'accuracy').mean()\n",
    "mean_auc_score = cross_val_score(Classifier, X_train_reduced, y_train, cv = 10, scoring = 'roc_auc').mean()\n",
    "print(f' Accuracy = {round(mean_accuracy, 4)}')\n",
    "print(f' AUC_Score = {round(mean_auc_score, 4)}')"
   ]
  },
  {
   "cell_type": "markdown",
   "metadata": {
    "id": "DpDsxixFROcd"
   },
   "source": [
    "- The mean of 10 folds cross validation accuracy is : 96.5% with an AUC of 0.995"
   ]
  },
  {
   "cell_type": "markdown",
   "metadata": {
    "id": "gRM8sbh8Rbo_"
   },
   "source": [
    "## More Metrics "
   ]
  },
  {
   "cell_type": "code",
   "execution_count": null,
   "metadata": {
    "colab": {
     "base_uri": "https://localhost:8080/"
    },
    "id": "XFx5xMsxRb5P",
    "outputId": "029698fe-469b-4386-f9e4-25a7b3ad6cd1"
   },
   "outputs": [
    {
     "name": "stdout",
     "output_type": "stream",
     "text": [
      "              precision    recall  f1-score   support\n",
      "\n",
      "           M       0.94      0.92      0.93        36\n",
      "           B       0.96      0.97      0.97        78\n",
      "\n",
      "    accuracy                           0.96       114\n",
      "   macro avg       0.95      0.95      0.95       114\n",
      "weighted avg       0.96      0.96      0.96       114\n",
      "\n"
     ]
    }
   ],
   "source": [
    "from sklearn.metrics import classification_report\n",
    "\n",
    "Classifier.fit(X_train_reduced, y_train)\n",
    "y_pred = Classifier.predict(X_test_reduced)\n",
    "\n",
    "print(classification_report(y_test, y_pred, target_names=['M', 'B']))"
   ]
  },
  {
   "cell_type": "markdown",
   "metadata": {
    "id": "m_EN2tXKRuC9"
   },
   "source": [
    "- The classifier shows good results in terms of precision and recall, with numbers above 94%."
   ]
  },
  {
   "cell_type": "markdown",
   "metadata": {},
   "source": [
    "## Going Further"
   ]
  },
  {
   "cell_type": "markdown",
   "metadata": {},
   "source": [
    "- It would be very interesting to compare these results with XGBoostClassifier to compare Results "
   ]
  }
 ],
 "metadata": {
  "colab": {
   "collapsed_sections": [],
   "name": "Mohamed Rahmouni- Technical test.ipynb",
   "provenance": []
  },
  "kernelspec": {
   "display_name": "Python 3",
   "language": "python",
   "name": "python3"
  },
  "language_info": {
   "codemirror_mode": {
    "name": "ipython",
    "version": 3
   },
   "file_extension": ".py",
   "mimetype": "text/x-python",
   "name": "python",
   "nbconvert_exporter": "python",
   "pygments_lexer": "ipython3",
   "version": "3.7.9"
  }
 },
 "nbformat": 4,
 "nbformat_minor": 1
}
